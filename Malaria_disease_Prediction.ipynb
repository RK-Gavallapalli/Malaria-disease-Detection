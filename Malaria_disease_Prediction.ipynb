{
 "cells": [
  {
   "cell_type": "code",
   "execution_count": 2,
   "id": "417cfe57",
   "metadata": {},
   "outputs": [],
   "source": [
    "# import the libraries as shown below\n",
    "\n",
    "from tensorflow.keras.layers import Input, Lambda, Dense, Flatten,Conv2D\n",
    "from tensorflow.keras.models import Model\n",
    "from tensorflow.keras.applications.vgg19 import VGG19\n",
    "from tensorflow.keras.applications.resnet50 import preprocess_input\n",
    "from tensorflow.keras.preprocessing import image\n",
    "from tensorflow.keras.preprocessing.image import ImageDataGenerator,load_img\n",
    "from tensorflow.keras.models import Sequential\n",
    "import numpy as np\n",
    "from glob import glob\n",
    "import matplotlib.pyplot as plt"
   ]
  },
  {
   "cell_type": "code",
   "execution_count": 4,
   "id": "fe87229a",
   "metadata": {},
   "outputs": [],
   "source": [
    "# re-size all the images to this\n",
    "IMAGE_SIZE = [224, 224]\n",
    "\n",
    "train_path = 'Downloads\\Dataset/Train'\n",
    "valid_path = 'Downloads\\Dataset/Test'"
   ]
  },
  {
   "cell_type": "code",
   "execution_count": 5,
   "id": "378a123a",
   "metadata": {},
   "outputs": [
    {
     "name": "stdout",
     "output_type": "stream",
     "text": [
      "Downloading data from https://storage.googleapis.com/tensorflow/keras-applications/vgg19/vgg19_weights_tf_dim_ordering_tf_kernels_notop.h5\n",
      "80142336/80134624 [==============================] - 19s 0us/step\n",
      "80150528/80134624 [==============================] - 19s 0us/step\n"
     ]
    }
   ],
   "source": [
    "# Import the Vgg 16 library as shown below and add preprocessing layer to the front of VGG\n",
    "# Here we will be using imagenet weights\n",
    "\n",
    "mobilnet = VGG19(input_shape=IMAGE_SIZE + [3], weights='imagenet', include_top=False)"
   ]
  },
  {
   "cell_type": "code",
   "execution_count": 6,
   "id": "72043cde",
   "metadata": {},
   "outputs": [],
   "source": [
    "# don't train existing weights\n",
    "for layer in mobilnet.layers:\n",
    "    layer.trainable = False"
   ]
  },
  {
   "cell_type": "code",
   "execution_count": 14,
   "id": "6b4f484b",
   "metadata": {},
   "outputs": [],
   "source": [
    "# useful for getting number of output classes\n",
    "folders = glob('Downloads\\Dataset/Train/*')"
   ]
  },
  {
   "cell_type": "code",
   "execution_count": 15,
   "id": "95a46c2f",
   "metadata": {},
   "outputs": [
    {
     "data": {
      "text/plain": [
       "['Downloads\\\\Dataset/Train\\\\Parasite', 'Downloads\\\\Dataset/Train\\\\Uninfected']"
      ]
     },
     "execution_count": 15,
     "metadata": {},
     "output_type": "execute_result"
    }
   ],
   "source": [
    "folders"
   ]
  },
  {
   "cell_type": "code",
   "execution_count": 16,
   "id": "6a5ed570",
   "metadata": {},
   "outputs": [],
   "source": [
    "# our layers - you can add more if you want\n",
    "x = Flatten()(mobilnet.output)"
   ]
  },
  {
   "cell_type": "code",
   "execution_count": 17,
   "id": "bc282562",
   "metadata": {},
   "outputs": [],
   "source": [
    "prediction = Dense(len(folders), activation='softmax')(x)\n",
    "\n",
    "# create a model object\n",
    "model = Model(inputs=mobilnet.input, outputs=prediction)"
   ]
  },
  {
   "cell_type": "code",
   "execution_count": 18,
   "id": "3cbb679a",
   "metadata": {},
   "outputs": [
    {
     "name": "stdout",
     "output_type": "stream",
     "text": [
      "Model: \"model_1\"\n",
      "_________________________________________________________________\n",
      " Layer (type)                Output Shape              Param #   \n",
      "=================================================================\n",
      " input_1 (InputLayer)        [(None, 224, 224, 3)]     0         \n",
      "                                                                 \n",
      " block1_conv1 (Conv2D)       (None, 224, 224, 64)      1792      \n",
      "                                                                 \n",
      " block1_conv2 (Conv2D)       (None, 224, 224, 64)      36928     \n",
      "                                                                 \n",
      " block1_pool (MaxPooling2D)  (None, 112, 112, 64)      0         \n",
      "                                                                 \n",
      " block2_conv1 (Conv2D)       (None, 112, 112, 128)     73856     \n",
      "                                                                 \n",
      " block2_conv2 (Conv2D)       (None, 112, 112, 128)     147584    \n",
      "                                                                 \n",
      " block2_pool (MaxPooling2D)  (None, 56, 56, 128)       0         \n",
      "                                                                 \n",
      " block3_conv1 (Conv2D)       (None, 56, 56, 256)       295168    \n",
      "                                                                 \n",
      " block3_conv2 (Conv2D)       (None, 56, 56, 256)       590080    \n",
      "                                                                 \n",
      " block3_conv3 (Conv2D)       (None, 56, 56, 256)       590080    \n",
      "                                                                 \n",
      " block3_conv4 (Conv2D)       (None, 56, 56, 256)       590080    \n",
      "                                                                 \n",
      " block3_pool (MaxPooling2D)  (None, 28, 28, 256)       0         \n",
      "                                                                 \n",
      " block4_conv1 (Conv2D)       (None, 28, 28, 512)       1180160   \n",
      "                                                                 \n",
      " block4_conv2 (Conv2D)       (None, 28, 28, 512)       2359808   \n",
      "                                                                 \n",
      " block4_conv3 (Conv2D)       (None, 28, 28, 512)       2359808   \n",
      "                                                                 \n",
      " block4_conv4 (Conv2D)       (None, 28, 28, 512)       2359808   \n",
      "                                                                 \n",
      " block4_pool (MaxPooling2D)  (None, 14, 14, 512)       0         \n",
      "                                                                 \n",
      " block5_conv1 (Conv2D)       (None, 14, 14, 512)       2359808   \n",
      "                                                                 \n",
      " block5_conv2 (Conv2D)       (None, 14, 14, 512)       2359808   \n",
      "                                                                 \n",
      " block5_conv3 (Conv2D)       (None, 14, 14, 512)       2359808   \n",
      "                                                                 \n",
      " block5_conv4 (Conv2D)       (None, 14, 14, 512)       2359808   \n",
      "                                                                 \n",
      " block5_pool (MaxPooling2D)  (None, 7, 7, 512)         0         \n",
      "                                                                 \n",
      " flatten_1 (Flatten)         (None, 25088)             0         \n",
      "                                                                 \n",
      " dense_1 (Dense)             (None, 2)                 50178     \n",
      "                                                                 \n",
      "=================================================================\n",
      "Total params: 20,074,562\n",
      "Trainable params: 50,178\n",
      "Non-trainable params: 20,024,384\n",
      "_________________________________________________________________\n"
     ]
    }
   ],
   "source": [
    "# view the structure of the model\n",
    "model.summary()"
   ]
  },
  {
   "cell_type": "code",
   "execution_count": 19,
   "id": "d0fcfd66",
   "metadata": {},
   "outputs": [],
   "source": [
    "from tensorflow.keras.layers import MaxPooling2D"
   ]
  },
  {
   "cell_type": "code",
   "execution_count": 20,
   "id": "bb997fc2",
   "metadata": {},
   "outputs": [
    {
     "name": "stdout",
     "output_type": "stream",
     "text": [
      "Model: \"sequential\"\n",
      "_________________________________________________________________\n",
      " Layer (type)                Output Shape              Param #   \n",
      "=================================================================\n",
      " conv2d (Conv2D)             (None, 224, 224, 16)      208       \n",
      "                                                                 \n",
      " max_pooling2d (MaxPooling2D  (None, 112, 112, 16)     0         \n",
      " )                                                               \n",
      "                                                                 \n",
      " conv2d_1 (Conv2D)           (None, 112, 112, 32)      2080      \n",
      "                                                                 \n",
      " max_pooling2d_1 (MaxPooling  (None, 56, 56, 32)       0         \n",
      " 2D)                                                             \n",
      "                                                                 \n",
      " conv2d_2 (Conv2D)           (None, 56, 56, 64)        8256      \n",
      "                                                                 \n",
      " max_pooling2d_2 (MaxPooling  (None, 28, 28, 64)       0         \n",
      " 2D)                                                             \n",
      "                                                                 \n",
      " flatten_2 (Flatten)         (None, 50176)             0         \n",
      "                                                                 \n",
      " dense_2 (Dense)             (None, 500)               25088500  \n",
      "                                                                 \n",
      " dense_3 (Dense)             (None, 2)                 1002      \n",
      "                                                                 \n",
      "=================================================================\n",
      "Total params: 25,100,046\n",
      "Trainable params: 25,100,046\n",
      "Non-trainable params: 0\n",
      "_________________________________________________________________\n"
     ]
    }
   ],
   "source": [
    "### Create Model from scratch using CNN\n",
    "model=Sequential()\n",
    "model.add(Conv2D(filters=16,kernel_size=2,padding=\"same\",activation=\"relu\",input_shape=(224,224,3)))\n",
    "model.add(MaxPooling2D(pool_size=2))\n",
    "model.add(Conv2D(filters=32,kernel_size=2,padding=\"same\",activation =\"relu\"))\n",
    "model.add(MaxPooling2D(pool_size=2))\n",
    "model.add(Conv2D(filters=64,kernel_size=2,padding=\"same\",activation=\"relu\"))\n",
    "model.add(MaxPooling2D(pool_size=2))\n",
    "model.add(Flatten())\n",
    "model.add(Dense(500,activation=\"relu\"))\n",
    "model.add(Dense(2,activation=\"softmax\"))\n",
    "model.summary()"
   ]
  },
  {
   "cell_type": "code",
   "execution_count": 21,
   "id": "1fe91dff",
   "metadata": {},
   "outputs": [],
   "source": [
    "# tell the model what cost and optimization method to use\n",
    "model.compile(\n",
    "  loss='categorical_crossentropy',\n",
    "  optimizer='adam',\n",
    "  metrics=['accuracy']\n",
    ")"
   ]
  },
  {
   "cell_type": "code",
   "execution_count": 22,
   "id": "b32a8ff6",
   "metadata": {},
   "outputs": [],
   "source": [
    "# Use the Image Data Generator to import the images from the dataset\n",
    "from tensorflow.keras.preprocessing.image import ImageDataGenerator\n",
    "\n",
    "train_datagen = ImageDataGenerator(rescale = 1./255,\n",
    "                                   shear_range = 0.2,\n",
    "                                   zoom_range = 0.2,\n",
    "                                   horizontal_flip = True)\n",
    "\n",
    "test_datagen = ImageDataGenerator(rescale = 1./255)"
   ]
  },
  {
   "cell_type": "code",
   "execution_count": 24,
   "id": "022023ae",
   "metadata": {},
   "outputs": [
    {
     "name": "stdout",
     "output_type": "stream",
     "text": [
      "Found 416 images belonging to 2 classes.\n"
     ]
    }
   ],
   "source": [
    "# Make sure you provide the same target size as initialied for the image size\n",
    "training_set = train_datagen.flow_from_directory('Downloads\\Dataset/Train',\n",
    "                                                 target_size = (224, 224),\n",
    "                                                 batch_size = 32,\n",
    "                                                 class_mode = 'categorical')"
   ]
  },
  {
   "cell_type": "code",
   "execution_count": 25,
   "id": "80e93fa4",
   "metadata": {},
   "outputs": [
    {
     "data": {
      "text/plain": [
       "<keras.preprocessing.image.DirectoryIterator at 0x1ce292a2460>"
      ]
     },
     "execution_count": 25,
     "metadata": {},
     "output_type": "execute_result"
    }
   ],
   "source": [
    "training_set"
   ]
  },
  {
   "cell_type": "code",
   "execution_count": 27,
   "id": "924dd953",
   "metadata": {},
   "outputs": [
    {
     "name": "stdout",
     "output_type": "stream",
     "text": [
      "Found 134 images belonging to 2 classes.\n"
     ]
    }
   ],
   "source": [
    "test_set = test_datagen.flow_from_directory('Downloads\\Dataset/Test',\n",
    "                                            target_size = (224, 224),\n",
    "                                            batch_size = 32,\n",
    "                                            class_mode = 'categorical')"
   ]
  },
  {
   "cell_type": "code",
   "execution_count": 39,
   "id": "c4c4b720",
   "metadata": {},
   "outputs": [
    {
     "name": "stderr",
     "output_type": "stream",
     "text": [
      "C:\\Users\\raghu\\AppData\\Local\\Temp/ipykernel_16448/4102162479.py:3: UserWarning: `Model.fit_generator` is deprecated and will be removed in a future version. Please use `Model.fit`, which supports generators.\n",
      "  r = model.fit_generator(\n"
     ]
    },
    {
     "name": "stdout",
     "output_type": "stream",
     "text": [
      "Epoch 1/50\n",
      "13/13 [==============================] - 19s 1s/step - loss: 0.3270 - accuracy: 0.8462 - val_loss: 0.4421 - val_accuracy: 0.8060\n",
      "Epoch 2/50\n",
      "13/13 [==============================] - 16s 1s/step - loss: 0.2859 - accuracy: 0.9062 - val_loss: 0.5801 - val_accuracy: 0.6716\n",
      "Epoch 3/50\n",
      "13/13 [==============================] - 16s 1s/step - loss: 0.2263 - accuracy: 0.9135 - val_loss: 0.5402 - val_accuracy: 0.7090\n",
      "Epoch 4/50\n",
      "13/13 [==============================] - 19s 1s/step - loss: 0.2109 - accuracy: 0.9207 - val_loss: 1.0043 - val_accuracy: 0.5597\n",
      "Epoch 5/50\n",
      "13/13 [==============================] - 17s 1s/step - loss: 0.3148 - accuracy: 0.8654 - val_loss: 0.5495 - val_accuracy: 0.7015\n",
      "Epoch 6/50\n",
      "13/13 [==============================] - 23s 2s/step - loss: 0.2282 - accuracy: 0.9111 - val_loss: 0.6565 - val_accuracy: 0.7015\n",
      "Epoch 7/50\n",
      "13/13 [==============================] - 23s 2s/step - loss: 0.1510 - accuracy: 0.9471 - val_loss: 0.5050 - val_accuracy: 0.7612\n",
      "Epoch 8/50\n",
      "13/13 [==============================] - 22s 2s/step - loss: 0.1424 - accuracy: 0.9591 - val_loss: 0.3498 - val_accuracy: 0.8358\n",
      "Epoch 9/50\n",
      "13/13 [==============================] - 20s 2s/step - loss: 0.1392 - accuracy: 0.9471 - val_loss: 0.4116 - val_accuracy: 0.8284\n",
      "Epoch 10/50\n",
      "13/13 [==============================] - 16s 1s/step - loss: 0.1486 - accuracy: 0.9471 - val_loss: 0.5085 - val_accuracy: 0.7463\n",
      "Epoch 11/50\n",
      "13/13 [==============================] - 16s 1s/step - loss: 0.1623 - accuracy: 0.9591 - val_loss: 0.4260 - val_accuracy: 0.7910\n",
      "Epoch 12/50\n",
      "13/13 [==============================] - 19s 1s/step - loss: 0.1101 - accuracy: 0.9639 - val_loss: 0.9119 - val_accuracy: 0.7463\n",
      "Epoch 13/50\n",
      "13/13 [==============================] - 20s 2s/step - loss: 0.1454 - accuracy: 0.9519 - val_loss: 0.2770 - val_accuracy: 0.9030\n",
      "Epoch 14/50\n",
      "13/13 [==============================] - 17s 1s/step - loss: 0.0928 - accuracy: 0.9736 - val_loss: 0.3183 - val_accuracy: 0.8657\n",
      "Epoch 15/50\n",
      "13/13 [==============================] - 15s 1s/step - loss: 0.0969 - accuracy: 0.9688 - val_loss: 0.2483 - val_accuracy: 0.9104\n",
      "Epoch 16/50\n",
      "13/13 [==============================] - 17s 1s/step - loss: 0.1303 - accuracy: 0.9567 - val_loss: 0.3196 - val_accuracy: 0.8433\n",
      "Epoch 17/50\n",
      "13/13 [==============================] - 20s 1s/step - loss: 0.1183 - accuracy: 0.9639 - val_loss: 0.3922 - val_accuracy: 0.8060\n",
      "Epoch 18/50\n",
      "13/13 [==============================] - 20s 2s/step - loss: 0.1641 - accuracy: 0.9495 - val_loss: 0.2470 - val_accuracy: 0.8881\n",
      "Epoch 19/50\n",
      "13/13 [==============================] - 21s 2s/step - loss: 0.0929 - accuracy: 0.9712 - val_loss: 0.3387 - val_accuracy: 0.8433\n",
      "Epoch 20/50\n",
      "13/13 [==============================] - 18s 1s/step - loss: 0.0819 - accuracy: 0.9856 - val_loss: 0.2700 - val_accuracy: 0.8881\n",
      "Epoch 21/50\n",
      "13/13 [==============================] - 20s 2s/step - loss: 0.0754 - accuracy: 0.9736 - val_loss: 0.2088 - val_accuracy: 0.9254\n",
      "Epoch 22/50\n",
      "13/13 [==============================] - 20s 2s/step - loss: 0.0742 - accuracy: 0.9808 - val_loss: 0.3456 - val_accuracy: 0.8433\n",
      "Epoch 23/50\n",
      "13/13 [==============================] - 21s 2s/step - loss: 0.0749 - accuracy: 0.9808 - val_loss: 0.2339 - val_accuracy: 0.9254\n",
      "Epoch 24/50\n",
      "13/13 [==============================] - 19s 1s/step - loss: 0.0650 - accuracy: 0.9832 - val_loss: 0.2600 - val_accuracy: 0.9104\n",
      "Epoch 25/50\n",
      "13/13 [==============================] - 19s 1s/step - loss: 0.0676 - accuracy: 0.9856 - val_loss: 0.2352 - val_accuracy: 0.8955\n",
      "Epoch 26/50\n",
      "13/13 [==============================] - 19s 1s/step - loss: 0.0423 - accuracy: 0.9904 - val_loss: 0.2334 - val_accuracy: 0.9254\n",
      "Epoch 27/50\n",
      "13/13 [==============================] - 24s 2s/step - loss: 0.0518 - accuracy: 0.9832 - val_loss: 0.2165 - val_accuracy: 0.9179\n",
      "Epoch 28/50\n",
      "13/13 [==============================] - 20s 2s/step - loss: 0.0548 - accuracy: 0.9856 - val_loss: 0.4520 - val_accuracy: 0.8433\n",
      "Epoch 29/50\n",
      "13/13 [==============================] - 20s 2s/step - loss: 0.0957 - accuracy: 0.9712 - val_loss: 0.2777 - val_accuracy: 0.8806\n",
      "Epoch 30/50\n",
      "13/13 [==============================] - 22s 2s/step - loss: 0.0665 - accuracy: 0.9808 - val_loss: 0.3303 - val_accuracy: 0.8657\n",
      "Epoch 31/50\n",
      "13/13 [==============================] - 20s 2s/step - loss: 0.0899 - accuracy: 0.9736 - val_loss: 0.2305 - val_accuracy: 0.8806\n",
      "Epoch 32/50\n",
      "13/13 [==============================] - 19s 1s/step - loss: 0.0430 - accuracy: 0.9904 - val_loss: 0.2356 - val_accuracy: 0.9328\n",
      "Epoch 33/50\n",
      "13/13 [==============================] - 19s 1s/step - loss: 0.1016 - accuracy: 0.9543 - val_loss: 0.3339 - val_accuracy: 0.8582\n",
      "Epoch 34/50\n",
      "13/13 [==============================] - 20s 1s/step - loss: 0.1157 - accuracy: 0.9639 - val_loss: 0.2326 - val_accuracy: 0.8955\n",
      "Epoch 35/50\n",
      "13/13 [==============================] - 20s 1s/step - loss: 0.0698 - accuracy: 0.9760 - val_loss: 0.2304 - val_accuracy: 0.9104\n",
      "Epoch 36/50\n",
      "13/13 [==============================] - 23s 2s/step - loss: 0.0653 - accuracy: 0.9688 - val_loss: 0.4346 - val_accuracy: 0.8433\n",
      "Epoch 37/50\n",
      "13/13 [==============================] - 22s 2s/step - loss: 0.0804 - accuracy: 0.9712 - val_loss: 0.2385 - val_accuracy: 0.9030\n",
      "Epoch 38/50\n",
      "13/13 [==============================] - 18s 1s/step - loss: 0.1545 - accuracy: 0.9519 - val_loss: 0.3403 - val_accuracy: 0.8507\n",
      "Epoch 39/50\n",
      "13/13 [==============================] - 20s 2s/step - loss: 0.0930 - accuracy: 0.9736 - val_loss: 0.2916 - val_accuracy: 0.8657\n",
      "Epoch 40/50\n",
      "13/13 [==============================] - 21s 2s/step - loss: 0.0596 - accuracy: 0.9832 - val_loss: 0.2036 - val_accuracy: 0.9254\n",
      "Epoch 41/50\n",
      "13/13 [==============================] - 19s 1s/step - loss: 0.0484 - accuracy: 0.9856 - val_loss: 0.2282 - val_accuracy: 0.9254\n",
      "Epoch 42/50\n",
      "13/13 [==============================] - 19s 1s/step - loss: 0.0669 - accuracy: 0.9832 - val_loss: 0.2689 - val_accuracy: 0.8806\n",
      "Epoch 43/50\n",
      "13/13 [==============================] - 20s 2s/step - loss: 0.0623 - accuracy: 0.9856 - val_loss: 0.2263 - val_accuracy: 0.9030\n",
      "Epoch 44/50\n",
      "13/13 [==============================] - 18s 1s/step - loss: 0.0351 - accuracy: 0.9904 - val_loss: 0.1828 - val_accuracy: 0.9254\n",
      "Epoch 45/50\n",
      "13/13 [==============================] - 18s 1s/step - loss: 0.0382 - accuracy: 0.9904 - val_loss: 0.3247 - val_accuracy: 0.8806\n",
      "Epoch 46/50\n",
      "13/13 [==============================] - 20s 2s/step - loss: 0.0345 - accuracy: 0.9904 - val_loss: 0.1601 - val_accuracy: 0.9701\n",
      "Epoch 47/50\n",
      "13/13 [==============================] - 20s 1s/step - loss: 0.0483 - accuracy: 0.9880 - val_loss: 0.2426 - val_accuracy: 0.9030\n",
      "Epoch 48/50\n",
      "13/13 [==============================] - 19s 1s/step - loss: 0.0297 - accuracy: 0.9928 - val_loss: 0.1952 - val_accuracy: 0.9552\n",
      "Epoch 49/50\n",
      "13/13 [==============================] - 16s 1s/step - loss: 0.0405 - accuracy: 0.9928 - val_loss: 0.4454 - val_accuracy: 0.8582\n",
      "Epoch 50/50\n",
      "13/13 [==============================] - 15s 1s/step - loss: 0.0463 - accuracy: 0.9904 - val_loss: 0.1947 - val_accuracy: 0.9254\n"
     ]
    }
   ],
   "source": [
    "# fit the model\n",
    "# Run the cell. It will take some time to execute\n",
    "r = model.fit_generator(\n",
    "  training_set,\n",
    "  validation_data=test_set,\n",
    "  epochs=50,\n",
    "  steps_per_epoch=len(training_set),\n",
    "  validation_steps=len(test_set)\n",
    ")"
   ]
  },
  {
   "cell_type": "code",
   "execution_count": 40,
   "id": "81078b87",
   "metadata": {},
   "outputs": [
    {
     "data": {
      "image/png": "[encoded data removed]",
      "text/plain": [
       "<Figure size 432x288 with 1 Axes>"
      ]
     },
     "metadata": {
      "needs_background": "light"
     },
     "output_type": "display_data"
    },
    {
     "data": {
      "image/png": "[encoded data removed]",
      "text/plain": [
       "<Figure size 432x288 with 1 Axes>"
      ]
     },
     "metadata": {
      "needs_background": "light"
     },
     "output_type": "display_data"
    },
    {
     "data": {
      "text/plain": [
       "<Figure size 432x288 with 0 Axes>"
      ]
     },
     "metadata": {},
     "output_type": "display_data"
    }
   ],
   "source": [
    "# plot the loss\n",
    "plt.plot(r.history['loss'], label='train loss')\n",
    "plt.plot(r.history['val_loss'], label='val loss')\n",
    "plt.legend()\n",
    "plt.show()\n",
    "plt.savefig('LossVal_loss')\n",
    "\n",
    "# plot the accuracy\n",
    "plt.plot(r.history['accuracy'], label='train acc')\n",
    "plt.plot(r.history['val_accuracy'], label='val acc')\n",
    "plt.legend()\n",
    "plt.show()\n",
    "plt.savefig('AccVal_acc')"
   ]
  },
  {
   "cell_type": "code",
   "execution_count": 67,
   "id": "b83aefda",
   "metadata": {},
   "outputs": [],
   "source": [
    "# save it as a h5 file\n",
    "\n",
    "\n",
    "from tensorflow.keras.models import load_model\n",
    "\n",
    "model.save('model_Malaria.h5')"
   ]
  },
  {
   "cell_type": "code",
   "execution_count": 68,
   "id": "2c5c993a",
   "metadata": {},
   "outputs": [],
   "source": [
    "y_pred = model.predict(test_set)"
   ]
  },
  {
   "cell_type": "code",
   "execution_count": 69,
   "id": "c5cddf1e",
   "metadata": {},
   "outputs": [
    {
     "data": {
      "text/plain": [
       "array([[1.00000000e+00, 8.50672145e-17],\n",
       "       [9.99865294e-01, 1.34671209e-04],\n",
       "       [9.99822795e-01, 1.77270398e-04],\n",
       "       [9.98893917e-01, 1.10611611e-03],\n",
       "       [1.41020799e-02, 9.85897899e-01],\n",
       "       [9.99741733e-01, 2.58297106e-04],\n",
       "       [2.06213240e-02, 9.79378760e-01],\n",
       "       [4.58855629e-01, 5.41144371e-01],\n",
       "       [9.99981523e-01, 1.84991368e-05],\n",
       "       [6.84514105e-01, 3.15485954e-01],\n",
       "       [9.99988794e-01, 1.11768659e-05],\n",
       "       [6.16594777e-02, 9.38340545e-01],\n",
       "       [9.99512196e-01, 4.87765530e-04],\n",
       "       [7.27472007e-02, 9.27252829e-01],\n",
       "       [3.28094102e-02, 9.67190564e-01],\n",
       "       [2.14220528e-02, 9.78577971e-01],\n",
       "       [1.00000000e+00, 1.45526224e-09],\n",
       "       [9.99192297e-01, 8.07738397e-04],\n",
       "       [9.99841690e-01, 1.58265291e-04],\n",
       "       [8.72569717e-03, 9.91274297e-01],\n",
       "       [6.14311874e-01, 3.85688156e-01],\n",
       "       [1.87302977e-02, 9.81269717e-01],\n",
       "       [1.11564279e-01, 8.88435662e-01],\n",
       "       [2.30217818e-03, 9.97697771e-01],\n",
       "       [9.95926380e-01, 4.07363800e-03],\n",
       "       [8.16301722e-03, 9.91836965e-01],\n",
       "       [9.98804450e-01, 1.19558501e-03],\n",
       "       [1.00000000e+00, 6.43064979e-09],\n",
       "       [9.99999881e-01, 7.88363010e-08],\n",
       "       [4.58898628e-03, 9.95410979e-01],\n",
       "       [2.60820203e-02, 9.73918021e-01],\n",
       "       [1.17072575e-02, 9.88292754e-01],\n",
       "       [3.82803380e-02, 9.61719632e-01],\n",
       "       [1.51340412e-02, 9.84866023e-01],\n",
       "       [9.99771297e-01, 2.28674500e-04],\n",
       "       [1.63415838e-02, 9.83658373e-01],\n",
       "       [9.99999523e-01, 4.77749779e-07],\n",
       "       [2.13494822e-02, 9.78650570e-01],\n",
       "       [1.57030746e-01, 8.42969239e-01],\n",
       "       [1.79814622e-02, 9.82018590e-01],\n",
       "       [9.99986172e-01, 1.38624810e-05],\n",
       "       [9.99995470e-01, 4.56048292e-06],\n",
       "       [9.99999285e-01, 7.73536442e-07],\n",
       "       [3.92927928e-03, 9.96070743e-01],\n",
       "       [9.66295242e-01, 3.37047167e-02],\n",
       "       [2.29640026e-02, 9.77035940e-01],\n",
       "       [9.99999762e-01, 2.86542132e-07],\n",
       "       [2.38659396e-03, 9.97613430e-01],\n",
       "       [1.00000000e+00, 1.31795619e-09],\n",
       "       [9.98438537e-01, 1.56144146e-03],\n",
       "       [9.96677160e-01, 3.32283834e-03],\n",
       "       [8.51226039e-03, 9.91487741e-01],\n",
       "       [9.99909401e-01, 9.05630368e-05],\n",
       "       [9.99946952e-01, 5.30528632e-05],\n",
       "       [9.52366948e-01, 4.76330183e-02],\n",
       "       [9.98605430e-01, 1.39463018e-03],\n",
       "       [4.76054579e-01, 5.23945451e-01],\n",
       "       [1.00000000e+00, 3.74468145e-09],\n",
       "       [2.53566466e-02, 9.74643350e-01],\n",
       "       [9.99936819e-01, 6.31943549e-05],\n",
       "       [9.99932528e-01, 6.74877156e-05],\n",
       "       [4.52823658e-03, 9.95471835e-01],\n",
       "       [1.72879882e-02, 9.82712030e-01],\n",
       "       [9.95002806e-01, 4.99713188e-03],\n",
       "       [7.62288928e-01, 2.37711042e-01],\n",
       "       [5.59911737e-03, 9.94400918e-01],\n",
       "       [9.99311447e-01, 6.88614382e-04],\n",
       "       [9.99999881e-01, 1.11598723e-07],\n",
       "       [9.41117883e-01, 5.88821135e-02],\n",
       "       [9.99992371e-01, 7.61801903e-06],\n",
       "       [1.19962236e-02, 9.88003850e-01],\n",
       "       [1.00000000e+00, 1.19515491e-08],\n",
       "       [9.99928713e-01, 7.13137342e-05],\n",
       "       [1.00000000e+00, 4.15350820e-09],\n",
       "       [9.99189436e-01, 8.10619153e-04],\n",
       "       [3.27190548e-01, 6.72809482e-01],\n",
       "       [9.99999166e-01, 7.88648549e-07],\n",
       "       [9.99949932e-01, 5.00987480e-05],\n",
       "       [9.99940157e-01, 5.98721126e-05],\n",
       "       [3.98851894e-02, 9.60114837e-01],\n",
       "       [9.99907851e-01, 9.21166065e-05],\n",
       "       [1.00000000e+00, 3.04465573e-08],\n",
       "       [9.93190587e-01, 6.80943392e-03],\n",
       "       [1.88714266e-02, 9.81128573e-01],\n",
       "       [1.00000000e+00, 4.63351510e-11],\n",
       "       [2.62561496e-02, 9.73743916e-01],\n",
       "       [4.52614166e-02, 9.54738557e-01],\n",
       "       [9.99986529e-01, 1.35211412e-05],\n",
       "       [9.88609791e-01, 1.13902558e-02],\n",
       "       [1.00000000e+00, 3.26026158e-17],\n",
       "       [9.97768521e-01, 2.23150477e-03],\n",
       "       [4.12884116e-01, 5.87115884e-01],\n",
       "       [9.99968886e-01, 3.10969917e-05],\n",
       "       [1.47444746e-02, 9.85255480e-01],\n",
       "       [1.00000000e+00, 1.20310804e-18],\n",
       "       [4.11213264e-02, 9.58878636e-01],\n",
       "       [1.00000000e+00, 6.17580076e-19],\n",
       "       [9.99999881e-01, 9.50357943e-08],\n",
       "       [9.99337256e-01, 6.62754930e-04],\n",
       "       [1.04978066e-02, 9.89502251e-01],\n",
       "       [9.41749010e-03, 9.90582466e-01],\n",
       "       [2.78731167e-01, 7.21268892e-01],\n",
       "       [9.96964395e-01, 3.03563522e-03],\n",
       "       [9.38297451e-01, 6.17025122e-02],\n",
       "       [9.99858499e-01, 1.41462195e-04],\n",
       "       [1.67723838e-02, 9.83227611e-01],\n",
       "       [1.19322434e-03, 9.98806834e-01],\n",
       "       [9.99996066e-01, 3.98353814e-06],\n",
       "       [9.98847604e-01, 1.15238212e-03],\n",
       "       [1.00000000e+00, 4.36500926e-17],\n",
       "       [1.83478033e-03, 9.98165190e-01],\n",
       "       [1.58223491e-02, 9.84177709e-01],\n",
       "       [9.99966741e-01, 3.32019699e-05],\n",
       "       [9.99861836e-01, 1.38128627e-04],\n",
       "       [9.99547660e-01, 4.52305714e-04],\n",
       "       [3.85626704e-01, 6.14373267e-01],\n",
       "       [7.09509850e-03, 9.92904961e-01],\n",
       "       [9.99711812e-01, 2.88114854e-04],\n",
       "       [6.69049084e-01, 3.30950916e-01],\n",
       "       [9.91813302e-01, 8.18673242e-03],\n",
       "       [1.00000000e+00, 1.65487450e-11],\n",
       "       [1.00000000e+00, 2.81665996e-10],\n",
       "       [9.73939240e-01, 2.60607954e-02],\n",
       "       [8.66471976e-03, 9.91335332e-01],\n",
       "       [5.26514649e-01, 4.73485321e-01],\n",
       "       [9.96850073e-01, 3.14997789e-03],\n",
       "       [9.99909282e-01, 9.07316862e-05],\n",
       "       [9.99894619e-01, 1.05386753e-04],\n",
       "       [8.00117612e-01, 1.99882433e-01],\n",
       "       [1.96012184e-02, 9.80398834e-01],\n",
       "       [9.99892354e-01, 1.07677333e-04],\n",
       "       [1.85145289e-02, 9.81485486e-01],\n",
       "       [9.99840736e-01, 1.59220101e-04],\n",
       "       [9.99140382e-01, 8.59640772e-04]], dtype=float32)"
      ]
     },
     "execution_count": 69,
     "metadata": {},
     "output_type": "execute_result"
    }
   ],
   "source": [
    "y_pred"
   ]
  },
  {
   "cell_type": "code",
   "execution_count": 70,
   "id": "aab77b71",
   "metadata": {},
   "outputs": [],
   "source": [
    "import numpy as np\n",
    "y_pred = np.argmax(y_pred, axis=1)"
   ]
  },
  {
   "cell_type": "code",
   "execution_count": 71,
   "id": "0bb9ee57",
   "metadata": {},
   "outputs": [
    {
     "data": {
      "text/plain": [
       "array([0, 0, 0, 0, 1, 0, 1, 1, 0, 0, 0, 1, 0, 1, 1, 1, 0, 0, 0, 1, 0, 1,\n",
       "       1, 1, 0, 1, 0, 0, 0, 1, 1, 1, 1, 1, 0, 1, 0, 1, 1, 1, 0, 0, 0, 1,\n",
       "       0, 1, 0, 1, 0, 0, 0, 1, 0, 0, 0, 0, 1, 0, 1, 0, 0, 1, 1, 0, 0, 1,\n",
       "       0, 0, 0, 0, 1, 0, 0, 0, 0, 1, 0, 0, 0, 1, 0, 0, 0, 1, 0, 1, 1, 0,\n",
       "       0, 0, 0, 1, 0, 1, 0, 1, 0, 0, 0, 1, 1, 1, 0, 0, 0, 1, 1, 0, 0, 0,\n",
       "       1, 1, 0, 0, 0, 1, 1, 0, 0, 0, 0, 0, 0, 1, 0, 0, 0, 0, 0, 1, 0, 1,\n",
       "       0, 0], dtype=int64)"
      ]
     },
     "execution_count": 71,
     "metadata": {},
     "output_type": "execute_result"
    }
   ],
   "source": [
    "y_pred"
   ]
  },
  {
   "cell_type": "code",
   "execution_count": 1,
   "id": "e280ab92",
   "metadata": {},
   "outputs": [],
   "source": [
    "from tensorflow.keras.models import load_model\n",
    "from tensorflow.keras.preprocessing import image"
   ]
  },
  {
   "cell_type": "code",
   "execution_count": 3,
   "id": "fe410b1f",
   "metadata": {},
   "outputs": [],
   "source": [
    "model=load_model('model_Malaria.h5')"
   ]
  },
  {
   "cell_type": "code",
   "execution_count": 13,
   "id": "ec1841bc",
   "metadata": {},
   "outputs": [],
   "source": [
    "img=image.load_img('Downloads/Dataset/Test/Parasite/3.png', target_size=(224,224))"
   ]
  },
  {
   "cell_type": "code",
   "execution_count": 14,
   "id": "2c0f3af7",
   "metadata": {},
   "outputs": [
    {
     "data": {
      "text/plain": [
       "array([[[0., 0., 0.],\n",
       "        [0., 0., 0.],\n",
       "        [0., 0., 0.],\n",
       "        ...,\n",
       "        [0., 0., 0.],\n",
       "        [0., 0., 0.],\n",
       "        [0., 0., 0.]],\n",
       "\n",
       "       [[0., 0., 0.],\n",
       "        [0., 0., 0.],\n",
       "        [0., 0., 0.],\n",
       "        ...,\n",
       "        [0., 0., 0.],\n",
       "        [0., 0., 0.],\n",
       "        [0., 0., 0.]],\n",
       "\n",
       "       [[0., 0., 0.],\n",
       "        [0., 0., 0.],\n",
       "        [0., 0., 0.],\n",
       "        ...,\n",
       "        [0., 0., 0.],\n",
       "        [0., 0., 0.],\n",
       "        [0., 0., 0.]],\n",
       "\n",
       "       ...,\n",
       "\n",
       "       [[0., 0., 0.],\n",
       "        [0., 0., 0.],\n",
       "        [0., 0., 0.],\n",
       "        ...,\n",
       "        [0., 0., 0.],\n",
       "        [0., 0., 0.],\n",
       "        [0., 0., 0.]],\n",
       "\n",
       "       [[0., 0., 0.],\n",
       "        [0., 0., 0.],\n",
       "        [0., 0., 0.],\n",
       "        ...,\n",
       "        [0., 0., 0.],\n",
       "        [0., 0., 0.],\n",
       "        [0., 0., 0.]],\n",
       "\n",
       "       [[0., 0., 0.],\n",
       "        [0., 0., 0.],\n",
       "        [0., 0., 0.],\n",
       "        ...,\n",
       "        [0., 0., 0.],\n",
       "        [0., 0., 0.],\n",
       "        [0., 0., 0.]]], dtype=float32)"
      ]
     },
     "execution_count": 14,
     "metadata": {},
     "output_type": "execute_result"
    }
   ],
   "source": [
    "x=image.img_to_array(img)\n",
    "x"
   ]
  },
  {
   "cell_type": "code",
   "execution_count": 15,
   "id": "6251e949",
   "metadata": {},
   "outputs": [
    {
     "data": {
      "text/plain": [
       "(224, 224, 3)"
      ]
     },
     "execution_count": 15,
     "metadata": {},
     "output_type": "execute_result"
    }
   ],
   "source": [
    "x.shape"
   ]
  },
  {
   "cell_type": "code",
   "execution_count": 16,
   "id": "3033df4d",
   "metadata": {},
   "outputs": [],
   "source": [
    "x=x/255"
   ]
  },
  {
   "cell_type": "code",
   "execution_count": 17,
   "id": "cac62a66",
   "metadata": {},
   "outputs": [
    {
     "data": {
      "text/plain": [
       "(1, 224, 224, 3)"
      ]
     },
     "execution_count": 17,
     "metadata": {},
     "output_type": "execute_result"
    }
   ],
   "source": [
    "x=np.expand_dims(x,axis=0)\n",
    "img_data=preprocess_input(x)\n",
    "img_data.shape"
   ]
  },
  {
   "cell_type": "code",
   "execution_count": 18,
   "id": "238577ec",
   "metadata": {},
   "outputs": [
    {
     "data": {
      "text/plain": [
       "array([[0., 1.]], dtype=float32)"
      ]
     },
     "execution_count": 18,
     "metadata": {},
     "output_type": "execute_result"
    }
   ],
   "source": [
    "model.predict(img_data)"
   ]
  },
  {
   "cell_type": "code",
   "execution_count": 19,
   "id": "7190c566",
   "metadata": {},
   "outputs": [],
   "source": [
    "a=np.argmax(model.predict(img_data), axis=1)"
   ]
  },
  {
   "cell_type": "code",
   "execution_count": 20,
   "id": "f269f014",
   "metadata": {},
   "outputs": [
    {
     "name": "stdout",
     "output_type": "stream",
     "text": [
      "Uninfected\n"
     ]
    }
   ],
   "source": [
    "if(a==1):\n",
    "    print(\"Uninfected\")\n",
    "else:\n",
    "    print(\"Infected\")"
   ]
  },
  {
   "cell_type": "code",
   "execution_count": 21,
   "id": "88d03420",
   "metadata": {},
   "outputs": [
    {
     "data": {
      "text/plain": [
       "array([1], dtype=int64)"
      ]
     },
     "execution_count": 21,
     "metadata": {},
     "output_type": "execute_result"
    }
   ],
   "source": [
    "a"
   ]
  },
  {
   "cell_type": "code",
   "execution_count": null,
   "id": "f05e9dd0",
   "metadata": {},
   "outputs": [],
   "source": []
  }
 ],
 "metadata": {
  "kernelspec": {
   "display_name": "Python 3 (ipykernel)",
   "language": "python",
   "name": "python3"
  },
  "language_info": {
   "codemirror_mode": {
    "name": "ipython",
    "version": 3
   },
   "file_extension": ".py",
   "mimetype": "text/x-python",
   "name": "python",
   "nbconvert_exporter": "python",
   "pygments_lexer": "ipython3",
   "version": "3.9.7"
  }
 },
 "nbformat": 4,
 "nbformat_minor": 5
}
